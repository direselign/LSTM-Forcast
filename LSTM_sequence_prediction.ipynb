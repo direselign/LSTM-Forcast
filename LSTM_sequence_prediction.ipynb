{
 "cells": [
  {
   "cell_type": "code",
   "execution_count": 1,
   "metadata": {},
   "outputs": [
    {
     "name": "stderr",
     "output_type": "stream",
     "text": [
      "Using TensorFlow backend.\n"
     ]
    }
   ],
   "source": [
    "from sklearn.model_selection import train_test_split  \n",
    "from sklearn import preprocessing  \n",
    "from keras.layers.core import Dense, Activation, Dropout\n",
    "from keras.layers.recurrent import LSTM\n",
    "from keras.models import Sequential, load_model \n",
    "import pandas as pd \n",
    "import numpy as np \n",
    "from sklearn.preprocessing import MinMaxScaler \n",
    "from sklearn.metrics import mean_absolute_error,mean_squared_error "
   ]
  },
  {
   "cell_type": "code",
   "execution_count": 2,
   "metadata": {},
   "outputs": [],
   "source": [
    "def create_model(feature):\n",
    "    model_name = 'LSTM'\n",
    "    model=\"model LSTM\"\n",
    "    model = Sequential()\n",
    "    model.add(LSTM(return_sequences=True, input_shape=(None, feature), units=50))\n",
    "    model.add(Dropout(0.2))\n",
    "    model.add(LSTM(100, return_sequences=False))\n",
    "    model.add(Dropout(0.2))\n",
    "    model.add(Dense(units=1))\n",
    "    model.add(Activation('linear')) \n",
    "    model.compile(loss='mae', optimizer='adam')\n",
    "    return model,model_name"
   ]
  },
  {
   "cell_type": "code",
   "execution_count": 3,
   "metadata": {},
   "outputs": [],
   "source": [
    "def set_features(data):\n",
    "    data_csv = data[['date','high','low','open','close','volume','quoteVolume','weightedAverage','Average','dates_formatted']]\n",
    "    data_csv=data[['open','high','low','close','volume']] \n",
    "    df = data_csv \n",
    "    \n",
    "    df_data_shift=df.shift(-1)\n",
    "    df_data_label =  df[['close']] \n",
    "\n",
    "    # adjusting the shape of both\n",
    "    df.drop(df.index[len(df)-1], axis=0, inplace=True)\n",
    "    df_data_label.drop(df_data_label.index[len(df_data_label)-1], axis=0, inplace=True) \n",
    "\n",
    "    # conversion to numpy array\n",
    "    x, y = df.values, df_data_label.values  \n",
    "    \n",
    "    # scaling values for model\n",
    "    x_scale = MinMaxScaler()\n",
    "    y_scale = MinMaxScaler() \n",
    "    #print(x_scale)\n",
    "    X = x_scale.fit_transform(x)\n",
    "    Y = y_scale.fit_transform(y.reshape(-1,1))   \n",
    "    return X,Y,df,y_scale,x_scale"
   ]
  },
  {
   "cell_type": "code",
   "execution_count": 4,
   "metadata": {},
   "outputs": [
    {
     "data": {
      "text/html": [
       "<div>\n",
       "<style scoped>\n",
       "    .dataframe tbody tr th:only-of-type {\n",
       "        vertical-align: middle;\n",
       "    }\n",
       "\n",
       "    .dataframe tbody tr th {\n",
       "        vertical-align: top;\n",
       "    }\n",
       "\n",
       "    .dataframe thead th {\n",
       "        text-align: right;\n",
       "    }\n",
       "</style>\n",
       "<table border=\"1\" class=\"dataframe\">\n",
       "  <thead>\n",
       "    <tr style=\"text-align: right;\">\n",
       "      <th></th>\n",
       "      <th>date</th>\n",
       "      <th>high</th>\n",
       "      <th>low</th>\n",
       "      <th>open</th>\n",
       "      <th>close</th>\n",
       "      <th>volume</th>\n",
       "      <th>quoteVolume</th>\n",
       "      <th>weightedAverage</th>\n",
       "      <th>Average</th>\n",
       "      <th>dates_formatted</th>\n",
       "    </tr>\n",
       "  </thead>\n",
       "  <tbody>\n",
       "    <tr>\n",
       "      <th>44352</th>\n",
       "      <td>1504204200</td>\n",
       "      <td>4737.267364</td>\n",
       "      <td>4710.500000</td>\n",
       "      <td>4718.000000</td>\n",
       "      <td>4737.267364</td>\n",
       "      <td>680082.7339</td>\n",
       "      <td>143.942568</td>\n",
       "      <td>4724.681116</td>\n",
       "      <td>4724</td>\n",
       "      <td>2017-09-01</td>\n",
       "    </tr>\n",
       "    <tr>\n",
       "      <th>44353</th>\n",
       "      <td>1504206000</td>\n",
       "      <td>4742.418945</td>\n",
       "      <td>4700.000000</td>\n",
       "      <td>4737.267364</td>\n",
       "      <td>4716.039868</td>\n",
       "      <td>653827.5575</td>\n",
       "      <td>138.460804</td>\n",
       "      <td>4722.112961</td>\n",
       "      <td>4722</td>\n",
       "      <td>2017-09-01</td>\n",
       "    </tr>\n",
       "    <tr>\n",
       "      <th>44354</th>\n",
       "      <td>1504207800</td>\n",
       "      <td>4722.990000</td>\n",
       "      <td>4700.000000</td>\n",
       "      <td>4716.039868</td>\n",
       "      <td>4710.096467</td>\n",
       "      <td>501252.4665</td>\n",
       "      <td>106.347592</td>\n",
       "      <td>4713.341020</td>\n",
       "      <td>4713</td>\n",
       "      <td>2017-09-01</td>\n",
       "    </tr>\n",
       "    <tr>\n",
       "      <th>44355</th>\n",
       "      <td>1504209600</td>\n",
       "      <td>4720.000000</td>\n",
       "      <td>4701.000000</td>\n",
       "      <td>4710.096467</td>\n",
       "      <td>4719.826383</td>\n",
       "      <td>310109.5252</td>\n",
       "      <td>65.849511</td>\n",
       "      <td>4709.367158</td>\n",
       "      <td>4709</td>\n",
       "      <td>2017-09-01</td>\n",
       "    </tr>\n",
       "    <tr>\n",
       "      <th>44356</th>\n",
       "      <td>1504211400</td>\n",
       "      <td>4736.000000</td>\n",
       "      <td>4710.166319</td>\n",
       "      <td>4719.826383</td>\n",
       "      <td>4726.000000</td>\n",
       "      <td>322813.4876</td>\n",
       "      <td>68.314698</td>\n",
       "      <td>4725.388482</td>\n",
       "      <td>4725</td>\n",
       "      <td>2017-09-01</td>\n",
       "    </tr>\n",
       "  </tbody>\n",
       "</table>\n",
       "</div>"
      ],
      "text/plain": [
       "             date         high          low         open        close  \\\n",
       "44352  1504204200  4737.267364  4710.500000  4718.000000  4737.267364   \n",
       "44353  1504206000  4742.418945  4700.000000  4737.267364  4716.039868   \n",
       "44354  1504207800  4722.990000  4700.000000  4716.039868  4710.096467   \n",
       "44355  1504209600  4720.000000  4701.000000  4710.096467  4719.826383   \n",
       "44356  1504211400  4736.000000  4710.166319  4719.826383  4726.000000   \n",
       "\n",
       "            volume  quoteVolume  weightedAverage  Average dates_formatted  \n",
       "44352  680082.7339   143.942568      4724.681116     4724      2017-09-01  \n",
       "44353  653827.5575   138.460804      4722.112961     4722      2017-09-01  \n",
       "44354  501252.4665   106.347592      4713.341020     4713      2017-09-01  \n",
       "44355  310109.5252    65.849511      4709.367158     4709      2017-09-01  \n",
       "44356  322813.4876    68.314698      4725.388482     4725      2017-09-01  "
      ]
     },
     "execution_count": 4,
     "metadata": {},
     "output_type": "execute_result"
    }
   ],
   "source": [
    "my_file = 'BitCoin_Data.csv'\n",
    "data = pd.read_csv(my_file,index_col=0) \n",
    "data.head()"
   ]
  },
  {
   "cell_type": "code",
   "execution_count": 5,
   "metadata": {},
   "outputs": [
    {
     "name": "stderr",
     "output_type": "stream",
     "text": [
      "/home/aclab/.local/lib/python3.5/site-packages/pandas/core/frame.py:3697: SettingWithCopyWarning: \n",
      "A value is trying to be set on a copy of a slice from a DataFrame\n",
      "\n",
      "See the caveats in the documentation: http://pandas.pydata.org/pandas-docs/stable/indexing.html#indexing-view-versus-copy\n",
      "  errors=errors)\n"
     ]
    }
   ],
   "source": [
    "X,Y,df,y_scale,x_scale =set_features(data) "
   ]
  },
  {
   "cell_type": "markdown",
   "metadata": {},
   "source": [
    "# Train Test split"
   ]
  },
  {
   "cell_type": "code",
   "execution_count": 6,
   "metadata": {},
   "outputs": [],
   "source": [
    "X_train, X_test, y_train, y_test = train_test_split(X, Y, test_size=0.20)"
   ]
  },
  {
   "cell_type": "markdown",
   "metadata": {},
   "source": [
    "# Data Reshape"
   ]
  },
  {
   "cell_type": "code",
   "execution_count": 7,
   "metadata": {},
   "outputs": [],
   "source": [
    "X_train = X_train.reshape((-1,1,df.shape[1]))\n",
    "X_test = X_test.reshape((-1,1,df.shape[1])) "
   ]
  },
  {
   "cell_type": "markdown",
   "metadata": {},
   "source": [
    "# Train Model"
   ]
  },
  {
   "cell_type": "code",
   "execution_count": 8,
   "metadata": {},
   "outputs": [],
   "source": [
    "model,model_name=create_model(df.shape[1])"
   ]
  },
  {
   "cell_type": "code",
   "execution_count": 9,
   "metadata": {
    "scrolled": true
   },
   "outputs": [
    {
     "name": "stdout",
     "output_type": "stream",
     "text": [
      "Train on 2992 samples, validate on 158 samples\n",
      "Epoch 1/10\n",
      "2992/2992 [==============================] - 1s 463us/step - loss: 0.4061 - val_loss: 0.3409\n",
      "Epoch 2/10\n",
      "2992/2992 [==============================] - 0s 18us/step - loss: 0.2897 - val_loss: 0.1978\n",
      "Epoch 3/10\n",
      "2992/2992 [==============================] - 0s 17us/step - loss: 0.1407 - val_loss: 0.0806\n",
      "Epoch 4/10\n",
      "2992/2992 [==============================] - 0s 17us/step - loss: 0.0982 - val_loss: 0.0701\n",
      "Epoch 5/10\n",
      "2992/2992 [==============================] - 0s 18us/step - loss: 0.0775 - val_loss: 0.0559\n",
      "Epoch 6/10\n",
      "2992/2992 [==============================] - 0s 17us/step - loss: 0.0577 - val_loss: 0.0345\n",
      "Epoch 7/10\n",
      "2992/2992 [==============================] - 0s 17us/step - loss: 0.0406 - val_loss: 0.0140\n",
      "Epoch 8/10\n",
      "2992/2992 [==============================] - 0s 17us/step - loss: 0.0347 - val_loss: 0.0156\n",
      "Epoch 9/10\n",
      "2992/2992 [==============================] - 0s 17us/step - loss: 0.0336 - val_loss: 0.0160\n",
      "Epoch 10/10\n",
      "2992/2992 [==============================] - 0s 17us/step - loss: 0.0328 - val_loss: 0.0125\n"
     ]
    }
   ],
   "source": [
    "hist=model.fit(X_train,y_train,batch_size=250, epochs=10, validation_split=0.05, verbose=1) "
   ]
  },
  {
   "cell_type": "markdown",
   "metadata": {},
   "source": [
    "# Model Prediction"
   ]
  },
  {
   "cell_type": "code",
   "execution_count": 10,
   "metadata": {},
   "outputs": [
    {
     "name": "stdout",
     "output_type": "stream",
     "text": [
      "MSE: 0.00019513256638862606\n"
     ]
    }
   ],
   "source": [
    "pred_pred=model.predict(X_test)  \n",
    "print(\"MSE:\", mean_squared_error(pred_pred,y_test))"
   ]
  },
  {
   "cell_type": "code",
   "execution_count": null,
   "metadata": {},
   "outputs": [],
   "source": []
  }
 ],
 "metadata": {
  "kernelspec": {
   "display_name": "Python 3",
   "language": "python",
   "name": "python3"
  },
  "language_info": {
   "codemirror_mode": {
    "name": "ipython",
    "version": 3
   },
   "file_extension": ".py",
   "mimetype": "text/x-python",
   "name": "python",
   "nbconvert_exporter": "python",
   "pygments_lexer": "ipython3",
   "version": "3.5.2"
  }
 },
 "nbformat": 4,
 "nbformat_minor": 2
}
